{
 "cells": [
  {
   "cell_type": "code",
   "execution_count": 1,
   "metadata": {},
   "outputs": [],
   "source": [
    "import numpy as np\n",
    "import pandas as pd"
   ]
  },
  {
   "cell_type": "code",
   "execution_count": 2,
   "metadata": {},
   "outputs": [],
   "source": [
    "def load_data(path):\n",
    "    with np.load(path) as f:\n",
    "        x_train, y_train = f['train.npy'], f['train_labels.npy']\n",
    "        x_test, y_test = f['test.npy'], f['test_labels.npy']\n",
    "        return (x_train, y_train), (x_test, y_test)\n",
    "\n",
    "(x_train, y_train), (x_test, y_test) = load_data('./input/original-data/mnist.npz')"
   ]
  },
  {
   "cell_type": "code",
   "execution_count": 3,
   "metadata": {},
   "outputs": [
    {
     "data": {
      "text/plain": [
       "((784, 60000), (784, 10000), (1, 60000), (1, 10000))"
      ]
     },
     "execution_count": 3,
     "metadata": {},
     "output_type": "execute_result"
    }
   ],
   "source": [
    "x_train.shape, x_test.shape, y_train.shape, y_test.shape"
   ]
  },
  {
   "cell_type": "code",
   "execution_count": 4,
   "metadata": {},
   "outputs": [],
   "source": [
    "x_train = x_train.T\n",
    "y_train = y_train.T\n",
    "x_test = x_test.T\n",
    "y_test = y_test.T\n",
    "MNIST_image = np.vstack( (x_train,x_test) )\n",
    "MNIST_label = np.vstack( (y_train,y_test) )"
   ]
  },
  {
   "cell_type": "code",
   "execution_count": 5,
   "metadata": {},
   "outputs": [
    {
     "data": {
      "text/plain": [
       "((60000, 784), (10000, 784), (60000, 1), (10000, 1))"
      ]
     },
     "execution_count": 5,
     "metadata": {},
     "output_type": "execute_result"
    }
   ],
   "source": [
    "x_train.shape, x_test.shape, y_train.shape, y_test.shape"
   ]
  },
  {
   "cell_type": "code",
   "execution_count": 6,
   "metadata": {},
   "outputs": [],
   "source": [
    "Kaggle_test_image = pd.read_csv(\"./input/test.csv\")\n",
    "Kaggle_test_image = Kaggle_test_image.values.astype(\"float64\")\n",
    "Kaggle_test_label = np.empty( (28000,1), dtype=\"float64\" )"
   ]
  },
  {
   "cell_type": "code",
   "execution_count": 7,
   "metadata": {},
   "outputs": [
    {
     "name": "stdout",
     "output_type": "stream",
     "text": [
      "Classifying Kaggle's 'test.csv' using kNN k=1 and MNIST 70k images\n",
      "  0 images classified perfectly\n",
      "  1000 images classified perfectly\n",
      "  2000 images classified perfectly\n",
      "  3000 images classified perfectly\n",
      "  4000 images classified perfectly\n",
      "  5000 images classified perfectly\n",
      "  6000 images classified perfectly\n",
      "  7000 images classified perfectly\n",
      "  8000 images classified perfectly\n",
      "  9000 images classified perfectly\n",
      "  10000 images classified perfectly\n",
      "  11000 images classified perfectly\n",
      "  12000 images classified perfectly\n",
      "  13000 images classified perfectly\n",
      "  14000 images classified perfectly\n",
      "  15000 images classified perfectly\n",
      "  16000 images classified perfectly\n",
      "  17000 images classified perfectly\n",
      "  18000 images classified perfectly\n",
      "  19000 images classified perfectly\n",
      "  20000 images classified perfectly\n",
      "  21000 images classified perfectly\n",
      "  22000 images classified perfectly\n",
      "  23000 images classified perfectly\n",
      "  24000 images classified perfectly\n",
      "  25000 images classified perfectly\n",
      "  26000 images classified perfectly\n",
      "  27000 images classified perfectly\n",
      "  28000 images classified perfectly\n",
      "Kaggle's 28000 test images are fully contained within MNIST's 70000 dataset\n",
      "24015 images are in MNIST-train's 60k and 3985 are in MNIST-test's 10k\n"
     ]
    }
   ],
   "source": [
    "c1=0; c2=0;\n",
    "print(\"Classifying Kaggle's 'test.csv' using kNN k=1 and MNIST 70k images\")\n",
    "for i in range(0,28000): # loop over Kaggle test\n",
    "    for j in range(0,70000): # loop over MNIST images\n",
    "        if np.absolute(Kaggle_test_image[i,] - MNIST_image[j,]).sum()==0:\n",
    "            Kaggle_test_label[i] = MNIST_label[j]\n",
    "            if i%1000==0:\n",
    "                print(\"  %d images classified perfectly\" % (i))\n",
    "            if j<60000:\n",
    "                c1 += 1\n",
    "            else:\n",
    "                c2 += 1\n",
    "            break\n",
    "if c1+c2==28000:\n",
    "    print(\"  28000 images classified perfectly\")\n",
    "    print(\"Kaggle's 28000 test images are fully contained within MNIST's 70000 dataset\")\n",
    "    print(\"%d images are in MNIST-train's 60k and %d are in MNIST-test's 10k\" % (c1,c2))"
   ]
  },
  {
   "cell_type": "code",
   "execution_count": null,
   "metadata": {},
   "outputs": [],
   "source": [
    "# from sklearn.neighbors import KNeighborsClassifier\n",
    "# neigh = KNeighborsClassifier(n_neighbors=1)\n",
    "# neigh.fit(MNIST_image, MNIST_label.flatten())\n",
    "# pred = neigh.predict(Kaggle_test_image)"
   ]
  },
  {
   "cell_type": "code",
   "execution_count": 8,
   "metadata": {},
   "outputs": [],
   "source": [
    "results = pd.Series(Kaggle_test_label.reshape(28000,),name=\"Label\")\n",
    "submission = pd.concat([pd.Series(range(1,28001),name = \"ImageId\"),results.astype('int64')],axis = 1)\n",
    "submission.to_csv(\"dr_100.csv\",index=False)"
   ]
  },
  {
   "cell_type": "code",
   "execution_count": null,
   "metadata": {},
   "outputs": [],
   "source": [
    "# submission = pd.concat([pd.Series(range(1,28001),pred],axis = 1, names = ['ImageId', 'Label'])\n",
    "# submission.to_csv(\"dr_100.csv\",index=False)"
   ]
  }
 ],
 "metadata": {
  "kernelspec": {
   "display_name": "Python 3",
   "language": "python",
   "name": "python3"
  },
  "language_info": {
   "codemirror_mode": {
    "name": "ipython",
    "version": 3
   },
   "file_extension": ".py",
   "mimetype": "text/x-python",
   "name": "python",
   "nbconvert_exporter": "python",
   "pygments_lexer": "ipython3",
   "version": "3.5.5"
  }
 },
 "nbformat": 4,
 "nbformat_minor": 2
}
